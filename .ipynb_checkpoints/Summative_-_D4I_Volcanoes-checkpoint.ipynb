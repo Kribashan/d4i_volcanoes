{
 "cells": [
  {
   "cell_type": "markdown",
   "metadata": {},
   "source": [
    "# Digital For Industrial Summative - Part 1\n",
    " \n",
    "## Creating A Digital Thread\n"
   ]
  },
  {
   "cell_type": "markdown",
   "metadata": {},
   "source": [
    "A Digital Thread is the one unifying theme or characteristic that connects every aspect of an asset or unit, right from its inception and design, to manufacture, deployment, operations, maintenance to eventual retirement.\n",
    "\n",
    "In analysis, a digital thread is the logical with which we bind and merge the various data sources into one whole, so that it lends itself to quantitative approaches easily.\n",
    "\n",
    "<img src = 'images/Digital_Thread.JPG' width=500>\n"
   ]
  },
  {
   "cell_type": "markdown",
   "metadata": {},
   "source": [
    "A digital thread is a technique to 'stitch' the data that comes in disjoint tables, such that they can be put together logically. That is a task for this exercise."
   ]
  },
  {
   "cell_type": "markdown",
   "metadata": {},
   "source": [
    "Data sets provided:\n",
    "\n",
    "We have been give 5 data sets, all of which related to one month's worth of readings taken at a live volcano site. The volcano was instrumented with multiple sensors in 10 different geographical points (nodes). Our goal is to combine and merge all of this into one digital thread, making it amenable for analysis.\n",
    "\n",
    "Tasks:\n",
    "\n",
    "    1.0 Read all the needed input files\n",
    "    2.0 Plotting Sensor Time Series\n",
    "    3.0 Descriptive Analysis One data frame at a time \n",
    "    4.0 Creating a Digital Thread from the data sets\n",
    "    5.0 Time Series based analysis\n",
    "    6.0 Correlations Analysis\n",
    "    7.0 Data Manipulations to Merge multiple data sets\n",
    "    8.0 Building A Battery Remaining-Life prediction model"
   ]
  },
  {
   "cell_type": "code",
   "execution_count": 43,
   "metadata": {
    "collapsed": true,
    "slideshow": {
     "slide_type": "slide"
    }
   },
   "outputs": [],
   "source": [
    "import numpy as np\n",
    "import pandas as pd\n",
    "import matplotlib.pyplot as plt\n",
    "import seaborn as sns\n",
    "import os"
   ]
  },
  {
   "cell_type": "code",
   "execution_count": 44,
   "metadata": {
    "collapsed": true
   },
   "outputs": [],
   "source": [
    "%matplotlib inline"
   ]
  },
  {
   "cell_type": "markdown",
   "metadata": {},
   "source": [
    "### 1.0 Read all the needed input files"
   ]
  },
  {
   "cell_type": "markdown",
   "metadata": {},
   "source": [
    "Create multiple data frames, one to hold each data table."
   ]
  },
  {
   "cell_type": "markdown",
   "metadata": {},
   "source": [
    "Convert all Data frame time stamps into date-time format, so that time-based indexing is possible"
   ]
  },
  {
   "cell_type": "code",
   "execution_count": 45,
   "metadata": {
    "collapsed": true
   },
   "outputs": [],
   "source": [
    "data_dir = 'data/'"
   ]
  },
  {
   "cell_type": "code",
   "execution_count": 46,
   "metadata": {},
   "outputs": [
    {
     "data": {
      "text/plain": [
       "['datapoints.csv',\n",
       " 'datatypes.csv',\n",
       " 'nodes.csv',\n",
       " 'Sensor Files',\n",
       " 'sensors.csv',\n",
       " 'volcanos.csv']"
      ]
     },
     "execution_count": 46,
     "metadata": {},
     "output_type": "execute_result"
    }
   ],
   "source": [
    "_files = os.listdir(data_dir)\n",
    "_files"
   ]
  },
  {
   "cell_type": "code",
   "execution_count": 47,
   "metadata": {
    "collapsed": true
   },
   "outputs": [],
   "source": [
    "datapoints = pd.read_csv('data/datapoints.csv')\n",
    "nodes = pd.read_csv('data/nodes.csv')\n",
    "sensors = pd.read_csv('data/sensors.csv')\n",
    "volcanos = pd.read_csv('data/volcanos.csv')\n",
    "datatypes = pd.read_csv('data/datatypes.csv')"
   ]
  },
  {
   "cell_type": "code",
   "execution_count": 48,
   "metadata": {},
   "outputs": [
    {
     "data": {
      "text/html": [
       "<div>\n",
       "<style>\n",
       "    .dataframe thead tr:only-child th {\n",
       "        text-align: right;\n",
       "    }\n",
       "\n",
       "    .dataframe thead th {\n",
       "        text-align: left;\n",
       "    }\n",
       "\n",
       "    .dataframe tbody tr th {\n",
       "        vertical-align: top;\n",
       "    }\n",
       "</style>\n",
       "<table border=\"1\" class=\"dataframe\">\n",
       "  <thead>\n",
       "    <tr style=\"text-align: right;\">\n",
       "      <th></th>\n",
       "      <th>id</th>\n",
       "      <th>value</th>\n",
       "      <th>timestamp</th>\n",
       "      <th>sensor_id</th>\n",
       "    </tr>\n",
       "  </thead>\n",
       "  <tbody>\n",
       "    <tr>\n",
       "      <th>0</th>\n",
       "      <td>764c5e60-8679-11e6-a353-2f6c041e2491</td>\n",
       "      <td>98.000</td>\n",
       "      <td>2016-08-03 04:39:25+00</td>\n",
       "      <td>7635c920-8679-11e6-a353-2f6c041e2491</td>\n",
       "    </tr>\n",
       "    <tr>\n",
       "      <th>1</th>\n",
       "      <td>764c5e61-8679-11e6-a353-2f6c041e2491</td>\n",
       "      <td>33.198</td>\n",
       "      <td>2016-08-03 04:39:25+00</td>\n",
       "      <td>763b9580-8679-11e6-a353-2f6c041e2491</td>\n",
       "    </tr>\n",
       "    <tr>\n",
       "      <th>2</th>\n",
       "      <td>764dbdf0-8679-11e6-a353-2f6c041e2491</td>\n",
       "      <td>29.300</td>\n",
       "      <td>2016-08-03 04:39:25+00</td>\n",
       "      <td>763ca6f0-8679-11e6-a353-2f6c041e2491</td>\n",
       "    </tr>\n",
       "    <tr>\n",
       "      <th>3</th>\n",
       "      <td>764dbdf1-8679-11e6-a353-2f6c041e2491</td>\n",
       "      <td>96893.110</td>\n",
       "      <td>2016-08-03 04:39:25+00</td>\n",
       "      <td>763d9150-8679-11e6-a353-2f6c041e2491</td>\n",
       "    </tr>\n",
       "    <tr>\n",
       "      <th>4</th>\n",
       "      <td>764dbdf2-8679-11e6-a353-2f6c041e2491</td>\n",
       "      <td>459.736</td>\n",
       "      <td>2016-08-03 04:39:25+00</td>\n",
       "      <td>763701a1-8679-11e6-a353-2f6c041e2491</td>\n",
       "    </tr>\n",
       "  </tbody>\n",
       "</table>\n",
       "</div>"
      ],
      "text/plain": [
       "                                     id      value               timestamp  \\\n",
       "0  764c5e60-8679-11e6-a353-2f6c041e2491     98.000  2016-08-03 04:39:25+00   \n",
       "1  764c5e61-8679-11e6-a353-2f6c041e2491     33.198  2016-08-03 04:39:25+00   \n",
       "2  764dbdf0-8679-11e6-a353-2f6c041e2491     29.300  2016-08-03 04:39:25+00   \n",
       "3  764dbdf1-8679-11e6-a353-2f6c041e2491  96893.110  2016-08-03 04:39:25+00   \n",
       "4  764dbdf2-8679-11e6-a353-2f6c041e2491    459.736  2016-08-03 04:39:25+00   \n",
       "\n",
       "                              sensor_id  \n",
       "0  7635c920-8679-11e6-a353-2f6c041e2491  \n",
       "1  763b9580-8679-11e6-a353-2f6c041e2491  \n",
       "2  763ca6f0-8679-11e6-a353-2f6c041e2491  \n",
       "3  763d9150-8679-11e6-a353-2f6c041e2491  \n",
       "4  763701a1-8679-11e6-a353-2f6c041e2491  "
      ]
     },
     "execution_count": 48,
     "metadata": {},
     "output_type": "execute_result"
    }
   ],
   "source": [
    "datapoints.head(5)\n"
   ]
  },
  {
   "cell_type": "code",
   "execution_count": 49,
   "metadata": {},
   "outputs": [
    {
     "data": {
      "text/html": [
       "<div>\n",
       "<style>\n",
       "    .dataframe thead tr:only-child th {\n",
       "        text-align: right;\n",
       "    }\n",
       "\n",
       "    .dataframe thead th {\n",
       "        text-align: left;\n",
       "    }\n",
       "\n",
       "    .dataframe tbody tr th {\n",
       "        vertical-align: top;\n",
       "    }\n",
       "</style>\n",
       "<table border=\"1\" class=\"dataframe\">\n",
       "  <thead>\n",
       "    <tr style=\"text-align: right;\">\n",
       "      <th></th>\n",
       "      <th>id</th>\n",
       "      <th>name</th>\n",
       "      <th>description</th>\n",
       "      <th>location</th>\n",
       "      <th>status</th>\n",
       "      <th>created_at</th>\n",
       "      <th>updated_at</th>\n",
       "      <th>volcano_id</th>\n",
       "    </tr>\n",
       "  </thead>\n",
       "  <tbody>\n",
       "    <tr>\n",
       "      <th>0</th>\n",
       "      <td>c5e39fa0-867a-11e6-a353-2f6c041e2491</td>\n",
       "      <td>N1</td>\n",
       "      <td>\\N</td>\n",
       "      <td>\\N</td>\n",
       "      <td>OFFLINE</td>\n",
       "      <td>2016-08-17 01:06:49+00</td>\n",
       "      <td>2016-09-29 19:28:05.932+00</td>\n",
       "      <td>35dc3e90-8679-11e6-bda3-ef77801087ee</td>\n",
       "    </tr>\n",
       "    <tr>\n",
       "      <th>1</th>\n",
       "      <td>c147ece0-8679-11e6-a353-2f6c041e2491</td>\n",
       "      <td>N9</td>\n",
       "      <td>\\N</td>\n",
       "      <td>\\N</td>\n",
       "      <td>OFFLINE</td>\n",
       "      <td>2016-08-07 00:51:40+00</td>\n",
       "      <td>2016-09-29 19:41:07.065+00</td>\n",
       "      <td>35dc3e90-8679-11e6-bda3-ef77801087ee</td>\n",
       "    </tr>\n",
       "    <tr>\n",
       "      <th>2</th>\n",
       "      <td>76309900-8679-11e6-a353-2f6c041e2491</td>\n",
       "      <td>N8</td>\n",
       "      <td>\\N</td>\n",
       "      <td>\\N</td>\n",
       "      <td>OFFLINE</td>\n",
       "      <td>2016-08-03 22:09:40+00</td>\n",
       "      <td>2016-09-29 19:20:17.417+00</td>\n",
       "      <td>35dc3e90-8679-11e6-bda3-ef77801087ee</td>\n",
       "    </tr>\n",
       "    <tr>\n",
       "      <th>3</th>\n",
       "      <td>762b8ff0-8679-11e6-a353-2f6c041e2491</td>\n",
       "      <td>N10</td>\n",
       "      <td>\\N</td>\n",
       "      <td>\\N</td>\n",
       "      <td>OFFLINE</td>\n",
       "      <td>2016-08-03 04:39:25+00</td>\n",
       "      <td>2016-09-29 19:20:17.431+00</td>\n",
       "      <td>35dc3e90-8679-11e6-bda3-ef77801087ee</td>\n",
       "    </tr>\n",
       "    <tr>\n",
       "      <th>4</th>\n",
       "      <td>c14ccee0-8679-11e6-a353-2f6c041e2491</td>\n",
       "      <td>N2</td>\n",
       "      <td>\\N</td>\n",
       "      <td>\\N</td>\n",
       "      <td>OFFLINE</td>\n",
       "      <td>2016-08-10 04:20:22+00</td>\n",
       "      <td>2016-09-29 19:20:17.523+00</td>\n",
       "      <td>35dc3e90-8679-11e6-bda3-ef77801087ee</td>\n",
       "    </tr>\n",
       "  </tbody>\n",
       "</table>\n",
       "</div>"
      ],
      "text/plain": [
       "                                     id name description location   status  \\\n",
       "0  c5e39fa0-867a-11e6-a353-2f6c041e2491   N1          \\N       \\N  OFFLINE   \n",
       "1  c147ece0-8679-11e6-a353-2f6c041e2491   N9          \\N       \\N  OFFLINE   \n",
       "2  76309900-8679-11e6-a353-2f6c041e2491   N8          \\N       \\N  OFFLINE   \n",
       "3  762b8ff0-8679-11e6-a353-2f6c041e2491  N10          \\N       \\N  OFFLINE   \n",
       "4  c14ccee0-8679-11e6-a353-2f6c041e2491   N2          \\N       \\N  OFFLINE   \n",
       "\n",
       "               created_at                  updated_at  \\\n",
       "0  2016-08-17 01:06:49+00  2016-09-29 19:28:05.932+00   \n",
       "1  2016-08-07 00:51:40+00  2016-09-29 19:41:07.065+00   \n",
       "2  2016-08-03 22:09:40+00  2016-09-29 19:20:17.417+00   \n",
       "3  2016-08-03 04:39:25+00  2016-09-29 19:20:17.431+00   \n",
       "4  2016-08-10 04:20:22+00  2016-09-29 19:20:17.523+00   \n",
       "\n",
       "                             volcano_id  \n",
       "0  35dc3e90-8679-11e6-bda3-ef77801087ee  \n",
       "1  35dc3e90-8679-11e6-bda3-ef77801087ee  \n",
       "2  35dc3e90-8679-11e6-bda3-ef77801087ee  \n",
       "3  35dc3e90-8679-11e6-bda3-ef77801087ee  \n",
       "4  35dc3e90-8679-11e6-bda3-ef77801087ee  "
      ]
     },
     "execution_count": 49,
     "metadata": {},
     "output_type": "execute_result"
    }
   ],
   "source": [
    "nodes.head(5)\n"
   ]
  },
  {
   "cell_type": "code",
   "execution_count": 50,
   "metadata": {},
   "outputs": [
    {
     "data": {
      "text/html": [
       "<div>\n",
       "<style>\n",
       "    .dataframe thead tr:only-child th {\n",
       "        text-align: right;\n",
       "    }\n",
       "\n",
       "    .dataframe thead th {\n",
       "        text-align: left;\n",
       "    }\n",
       "\n",
       "    .dataframe tbody tr th {\n",
       "        vertical-align: top;\n",
       "    }\n",
       "</style>\n",
       "<table border=\"1\" class=\"dataframe\">\n",
       "  <thead>\n",
       "    <tr style=\"text-align: right;\">\n",
       "      <th></th>\n",
       "      <th>id</th>\n",
       "      <th>description</th>\n",
       "      <th>data_frequency</th>\n",
       "      <th>status</th>\n",
       "      <th>created_at</th>\n",
       "      <th>updated_at</th>\n",
       "      <th>data_type_id</th>\n",
       "      <th>node_id</th>\n",
       "    </tr>\n",
       "  </thead>\n",
       "  <tbody>\n",
       "    <tr>\n",
       "      <th>0</th>\n",
       "      <td>c15a6370-8679-11e6-a353-2f6c041e2491</td>\n",
       "      <td>\\N</td>\n",
       "      <td>1800000</td>\n",
       "      <td>OFFLINE</td>\n",
       "      <td>2016-08-07 00:51:40+00</td>\n",
       "      <td>2016-09-29 19:41:07.066+00</td>\n",
       "      <td>35dcdad0-8679-11e6-bda3-ef77801087ee</td>\n",
       "      <td>c147ece0-8679-11e6-a353-2f6c041e2491</td>\n",
       "    </tr>\n",
       "    <tr>\n",
       "      <th>1</th>\n",
       "      <td>7635c920-8679-11e6-a353-2f6c041e2491</td>\n",
       "      <td>\\N</td>\n",
       "      <td>1800000</td>\n",
       "      <td>OFFLINE</td>\n",
       "      <td>2016-08-03 04:39:25+00</td>\n",
       "      <td>2016-09-29 20:13:52.793+00</td>\n",
       "      <td>35dcdad2-8679-11e6-bda3-ef77801087ee</td>\n",
       "      <td>762b8ff0-8679-11e6-a353-2f6c041e2491</td>\n",
       "    </tr>\n",
       "    <tr>\n",
       "      <th>2</th>\n",
       "      <td>763b9580-8679-11e6-a353-2f6c041e2491</td>\n",
       "      <td>\\N</td>\n",
       "      <td>1800000</td>\n",
       "      <td>OFFLINE</td>\n",
       "      <td>2016-08-03 04:39:25+00</td>\n",
       "      <td>2016-09-29 20:13:52.797+00</td>\n",
       "      <td>35dcdad1-8679-11e6-bda3-ef77801087ee</td>\n",
       "      <td>762b8ff0-8679-11e6-a353-2f6c041e2491</td>\n",
       "    </tr>\n",
       "    <tr>\n",
       "      <th>3</th>\n",
       "      <td>763ca6f0-8679-11e6-a353-2f6c041e2491</td>\n",
       "      <td>\\N</td>\n",
       "      <td>1800000</td>\n",
       "      <td>OFFLINE</td>\n",
       "      <td>2016-08-03 04:39:25+00</td>\n",
       "      <td>2016-09-29 20:13:52.803+00</td>\n",
       "      <td>35dcb3c0-8679-11e6-bda3-ef77801087ee</td>\n",
       "      <td>762b8ff0-8679-11e6-a353-2f6c041e2491</td>\n",
       "    </tr>\n",
       "    <tr>\n",
       "      <th>4</th>\n",
       "      <td>763d9150-8679-11e6-a353-2f6c041e2491</td>\n",
       "      <td>\\N</td>\n",
       "      <td>1800000</td>\n",
       "      <td>OFFLINE</td>\n",
       "      <td>2016-08-03 04:39:25+00</td>\n",
       "      <td>2016-09-29 20:13:52.811+00</td>\n",
       "      <td>35dcb3c1-8679-11e6-bda3-ef77801087ee</td>\n",
       "      <td>762b8ff0-8679-11e6-a353-2f6c041e2491</td>\n",
       "    </tr>\n",
       "  </tbody>\n",
       "</table>\n",
       "</div>"
      ],
      "text/plain": [
       "                                     id description  data_frequency   status  \\\n",
       "0  c15a6370-8679-11e6-a353-2f6c041e2491          \\N         1800000  OFFLINE   \n",
       "1  7635c920-8679-11e6-a353-2f6c041e2491          \\N         1800000  OFFLINE   \n",
       "2  763b9580-8679-11e6-a353-2f6c041e2491          \\N         1800000  OFFLINE   \n",
       "3  763ca6f0-8679-11e6-a353-2f6c041e2491          \\N         1800000  OFFLINE   \n",
       "4  763d9150-8679-11e6-a353-2f6c041e2491          \\N         1800000  OFFLINE   \n",
       "\n",
       "               created_at                  updated_at  \\\n",
       "0  2016-08-07 00:51:40+00  2016-09-29 19:41:07.066+00   \n",
       "1  2016-08-03 04:39:25+00  2016-09-29 20:13:52.793+00   \n",
       "2  2016-08-03 04:39:25+00  2016-09-29 20:13:52.797+00   \n",
       "3  2016-08-03 04:39:25+00  2016-09-29 20:13:52.803+00   \n",
       "4  2016-08-03 04:39:25+00  2016-09-29 20:13:52.811+00   \n",
       "\n",
       "                           data_type_id                               node_id  \n",
       "0  35dcdad0-8679-11e6-bda3-ef77801087ee  c147ece0-8679-11e6-a353-2f6c041e2491  \n",
       "1  35dcdad2-8679-11e6-bda3-ef77801087ee  762b8ff0-8679-11e6-a353-2f6c041e2491  \n",
       "2  35dcdad1-8679-11e6-bda3-ef77801087ee  762b8ff0-8679-11e6-a353-2f6c041e2491  \n",
       "3  35dcb3c0-8679-11e6-bda3-ef77801087ee  762b8ff0-8679-11e6-a353-2f6c041e2491  \n",
       "4  35dcb3c1-8679-11e6-bda3-ef77801087ee  762b8ff0-8679-11e6-a353-2f6c041e2491  "
      ]
     },
     "execution_count": 50,
     "metadata": {},
     "output_type": "execute_result"
    }
   ],
   "source": [
    "sensors.head(5)"
   ]
  },
  {
   "cell_type": "code",
   "execution_count": 51,
   "metadata": {},
   "outputs": [
    {
     "data": {
      "text/html": [
       "<div>\n",
       "<style>\n",
       "    .dataframe thead tr:only-child th {\n",
       "        text-align: right;\n",
       "    }\n",
       "\n",
       "    .dataframe thead th {\n",
       "        text-align: left;\n",
       "    }\n",
       "\n",
       "    .dataframe tbody tr th {\n",
       "        vertical-align: top;\n",
       "    }\n",
       "</style>\n",
       "<table border=\"1\" class=\"dataframe\">\n",
       "  <thead>\n",
       "    <tr style=\"text-align: right;\">\n",
       "      <th></th>\n",
       "      <th>id</th>\n",
       "      <th>name</th>\n",
       "      <th>description</th>\n",
       "      <th>location</th>\n",
       "      <th>status</th>\n",
       "      <th>created_at</th>\n",
       "      <th>updated_at</th>\n",
       "    </tr>\n",
       "  </thead>\n",
       "  <tbody>\n",
       "    <tr>\n",
       "      <th>0</th>\n",
       "      <td>35dc3e90-8679-11e6-bda3-ef77801087ee</td>\n",
       "      <td>Masaya</td>\n",
       "      <td>This is the world's biggest, baddest, most evi...</td>\n",
       "      <td>{11.985318299999999,-86.178342900000004}</td>\n",
       "      <td>OFFLINE</td>\n",
       "      <td>2016-09-29 19:16:23.419+00</td>\n",
       "      <td>2016-10-07 07:43:05.015+00</td>\n",
       "    </tr>\n",
       "  </tbody>\n",
       "</table>\n",
       "</div>"
      ],
      "text/plain": [
       "                                     id    name  \\\n",
       "0  35dc3e90-8679-11e6-bda3-ef77801087ee  Masaya   \n",
       "\n",
       "                                         description  \\\n",
       "0  This is the world's biggest, baddest, most evi...   \n",
       "\n",
       "                                   location   status  \\\n",
       "0  {11.985318299999999,-86.178342900000004}  OFFLINE   \n",
       "\n",
       "                   created_at                  updated_at  \n",
       "0  2016-09-29 19:16:23.419+00  2016-10-07 07:43:05.015+00  "
      ]
     },
     "execution_count": 51,
     "metadata": {},
     "output_type": "execute_result"
    }
   ],
   "source": [
    "volcanos.head(5)"
   ]
  },
  {
   "cell_type": "code",
   "execution_count": 52,
   "metadata": {},
   "outputs": [
    {
     "data": {
      "text/html": [
       "<div>\n",
       "<style>\n",
       "    .dataframe thead tr:only-child th {\n",
       "        text-align: right;\n",
       "    }\n",
       "\n",
       "    .dataframe thead th {\n",
       "        text-align: left;\n",
       "    }\n",
       "\n",
       "    .dataframe tbody tr th {\n",
       "        vertical-align: top;\n",
       "    }\n",
       "</style>\n",
       "<table border=\"1\" class=\"dataframe\">\n",
       "  <thead>\n",
       "    <tr style=\"text-align: right;\">\n",
       "      <th></th>\n",
       "      <th>id</th>\n",
       "      <th>type</th>\n",
       "      <th>si_unit</th>\n",
       "      <th>type_id</th>\n",
       "    </tr>\n",
       "  </thead>\n",
       "  <tbody>\n",
       "    <tr>\n",
       "      <th>0</th>\n",
       "      <td>35dcb3c0-8679-11e6-bda3-ef77801087ee</td>\n",
       "      <td>temperature</td>\n",
       "      <td>celcius</td>\n",
       "      <td>TCA</td>\n",
       "    </tr>\n",
       "    <tr>\n",
       "      <th>1</th>\n",
       "      <td>35dcb3c1-8679-11e6-bda3-ef77801087ee</td>\n",
       "      <td>pressure</td>\n",
       "      <td>pascal</td>\n",
       "      <td>PA</td>\n",
       "    </tr>\n",
       "    <tr>\n",
       "      <th>2</th>\n",
       "      <td>35dcb3c2-8679-11e6-bda3-ef77801087ee</td>\n",
       "      <td>humidity</td>\n",
       "      <td>relative humidity</td>\n",
       "      <td>HUMA</td>\n",
       "    </tr>\n",
       "    <tr>\n",
       "      <th>3</th>\n",
       "      <td>35dcdad0-8679-11e6-bda3-ef77801087ee</td>\n",
       "      <td>carbon dioxide concentration</td>\n",
       "      <td>ppm</td>\n",
       "      <td>GP_CO2</td>\n",
       "    </tr>\n",
       "    <tr>\n",
       "      <th>4</th>\n",
       "      <td>35dcdad1-8679-11e6-bda3-ef77801087ee</td>\n",
       "      <td>hydrogen sulfide concentration</td>\n",
       "      <td>ppm</td>\n",
       "      <td>GP_H2S</td>\n",
       "    </tr>\n",
       "    <tr>\n",
       "      <th>5</th>\n",
       "      <td>35dcdad2-8679-11e6-bda3-ef77801087ee</td>\n",
       "      <td>battery</td>\n",
       "      <td>percentage</td>\n",
       "      <td>BAT</td>\n",
       "    </tr>\n",
       "    <tr>\n",
       "      <th>6</th>\n",
       "      <td>ed5edee0-e701-11e6-83c1-01ce06e6d17f</td>\n",
       "      <td>RSAM</td>\n",
       "      <td>counts</td>\n",
       "      <td>RSAM</td>\n",
       "    </tr>\n",
       "  </tbody>\n",
       "</table>\n",
       "</div>"
      ],
      "text/plain": [
       "                                     id                            type  \\\n",
       "0  35dcb3c0-8679-11e6-bda3-ef77801087ee                     temperature   \n",
       "1  35dcb3c1-8679-11e6-bda3-ef77801087ee                        pressure   \n",
       "2  35dcb3c2-8679-11e6-bda3-ef77801087ee                        humidity   \n",
       "3  35dcdad0-8679-11e6-bda3-ef77801087ee    carbon dioxide concentration   \n",
       "4  35dcdad1-8679-11e6-bda3-ef77801087ee  hydrogen sulfide concentration   \n",
       "5  35dcdad2-8679-11e6-bda3-ef77801087ee                         battery   \n",
       "6  ed5edee0-e701-11e6-83c1-01ce06e6d17f                            RSAM   \n",
       "\n",
       "             si_unit type_id  \n",
       "0            celcius     TCA  \n",
       "1             pascal      PA  \n",
       "2  relative humidity    HUMA  \n",
       "3                ppm  GP_CO2  \n",
       "4                ppm  GP_H2S  \n",
       "5         percentage     BAT  \n",
       "6             counts    RSAM  "
      ]
     },
     "execution_count": 52,
     "metadata": {},
     "output_type": "execute_result"
    }
   ],
   "source": [
    "datatypes"
   ]
  },
  {
   "cell_type": "code",
   "execution_count": 53,
   "metadata": {
    "collapsed": true
   },
   "outputs": [],
   "source": [
    "datapoints['timestamp'] = pd.to_datetime(datapoints['timestamp'])\n",
    "nodes['created_at'] = pd.to_datetime(nodes['created_at'])\n",
    "nodes['updated_at'] = pd.to_datetime(nodes['updated_at'])\n",
    "sensors['created_at'] = pd.to_datetime(sensors['created_at'])\n",
    "sensors['updated_at'] = pd.to_datetime(sensors['updated_at'])\n",
    "volcanos['created_at'] = pd.to_datetime(volcanos['created_at'])\n",
    "volcanos['updated_at'] = pd.to_datetime(volcanos['updated_at'])"
   ]
  },
  {
   "cell_type": "markdown",
   "metadata": {},
   "source": [
    "### 2. Plotting Sensor Time Series\n",
    "\n",
    "Create separate plots for each sensor in the dataset. Store each one in a separate file.\n",
    "\n",
    "**What (if anything) can we tell about the various sensors from the plots?**\n"
   ]
  },
  {
   "cell_type": "markdown",
   "metadata": {},
   "source": [
    "def getById(sensortypeid, data, col_id, col_return):\n",
    "    filtered = data[data[col_id] == sensortypeid][col_return]\n",
    "    return filtered"
   ]
  },
  {
   "cell_type": "markdown",
   "metadata": {},
   "source": [
    "sensortypes = datatypes['id'].unique()\n",
    "for stype in sensortypes:\n",
    "    sensorlist = getById(stype, sensors, 'data_type_id', 'id')\n",
    "    for sensor in sensorlist:\n",
    "        df = getById(sensor, datapoints, 'sensor_id', ['value', 'timestamp'])\n",
    "        file = 'data/'+ sensor +'-'+ datatypes[datatypes['id'] == stype].type.item() + '.csv'\n",
    "        df.to_csv(str(file), index=False, sep=',')"
   ]
  },
  {
   "cell_type": "markdown",
   "metadata": {},
   "source": [
    "### 3.0 Descriptive Analysis One data frame at a time **\n",
    "\n",
    "3.1: How many sensors of each type are there?"
   ]
  },
  {
   "cell_type": "code",
   "execution_count": 54,
   "metadata": {},
   "outputs": [
    {
     "data": {
      "text/plain": [
       "35dcb3c0-8679-11e6-bda3-ef77801087ee    10\n",
       "35dcdad0-8679-11e6-bda3-ef77801087ee    10\n",
       "35dcb3c2-8679-11e6-bda3-ef77801087ee    10\n",
       "35dcdad2-8679-11e6-bda3-ef77801087ee    10\n",
       "35dcb3c1-8679-11e6-bda3-ef77801087ee    10\n",
       "35dcdad1-8679-11e6-bda3-ef77801087ee    10\n",
       "ed5edee0-e701-11e6-83c1-01ce06e6d17f     1\n",
       "Name: data_type_id, dtype: int64"
      ]
     },
     "execution_count": 54,
     "metadata": {},
     "output_type": "execute_result"
    }
   ],
   "source": [
    "sensors.data_type_id.value_counts()"
   ]
  },
  {
   "cell_type": "markdown",
   "metadata": {},
   "source": [
    "----\n",
    "\n",
    "### 4.0 Creating a Digital Thread from the data sets**\n",
    "\n",
    "**Goal: Merge everything into one wide data table ** "
   ]
  },
  {
   "cell_type": "markdown",
   "metadata": {},
   "source": [
    "You have two data frames: `sensors` and `types` Merge each sensors with its type. (Hint: Use `pd.merge()`)\n",
    "\n",
    "Question: What does this achieve? Why should we do this?"
   ]
  },
  {
   "cell_type": "markdown",
   "metadata": {},
   "source": [
    "Now take the raw `data` data frame and merge it with all the `sensors` and their types."
   ]
  },
  {
   "cell_type": "code",
   "execution_count": 55,
   "metadata": {},
   "outputs": [
    {
     "data": {
      "text/html": [
       "<div>\n",
       "<style>\n",
       "    .dataframe thead tr:only-child th {\n",
       "        text-align: right;\n",
       "    }\n",
       "\n",
       "    .dataframe thead th {\n",
       "        text-align: left;\n",
       "    }\n",
       "\n",
       "    .dataframe tbody tr th {\n",
       "        vertical-align: top;\n",
       "    }\n",
       "</style>\n",
       "<table border=\"1\" class=\"dataframe\">\n",
       "  <thead>\n",
       "    <tr style=\"text-align: right;\">\n",
       "      <th></th>\n",
       "      <th>id</th>\n",
       "      <th>value</th>\n",
       "      <th>timestamp</th>\n",
       "      <th>sensor_id</th>\n",
       "      <th>id_x</th>\n",
       "      <th>type</th>\n",
       "      <th>si_unit</th>\n",
       "      <th>type_id</th>\n",
       "      <th>id_y</th>\n",
       "      <th>description</th>\n",
       "      <th>data_frequency</th>\n",
       "      <th>status</th>\n",
       "      <th>created_at</th>\n",
       "      <th>updated_at</th>\n",
       "      <th>data_type_id</th>\n",
       "      <th>node_id</th>\n",
       "    </tr>\n",
       "  </thead>\n",
       "  <tbody>\n",
       "    <tr>\n",
       "      <th>0</th>\n",
       "      <td>764c5e60-8679-11e6-a353-2f6c041e2491</td>\n",
       "      <td>98.0</td>\n",
       "      <td>2016-08-03 04:39:25</td>\n",
       "      <td>7635c920-8679-11e6-a353-2f6c041e2491</td>\n",
       "      <td>35dcdad2-8679-11e6-bda3-ef77801087ee</td>\n",
       "      <td>battery</td>\n",
       "      <td>percentage</td>\n",
       "      <td>BAT</td>\n",
       "      <td>7635c920-8679-11e6-a353-2f6c041e2491</td>\n",
       "      <td>\\N</td>\n",
       "      <td>1800000</td>\n",
       "      <td>OFFLINE</td>\n",
       "      <td>2016-08-03 04:39:25</td>\n",
       "      <td>2016-09-29 20:13:52.793</td>\n",
       "      <td>35dcdad2-8679-11e6-bda3-ef77801087ee</td>\n",
       "      <td>762b8ff0-8679-11e6-a353-2f6c041e2491</td>\n",
       "    </tr>\n",
       "    <tr>\n",
       "      <th>1</th>\n",
       "      <td>765251d0-8679-11e6-a353-2f6c041e2491</td>\n",
       "      <td>98.0</td>\n",
       "      <td>2016-08-03 04:47:41</td>\n",
       "      <td>7635c920-8679-11e6-a353-2f6c041e2491</td>\n",
       "      <td>35dcdad2-8679-11e6-bda3-ef77801087ee</td>\n",
       "      <td>battery</td>\n",
       "      <td>percentage</td>\n",
       "      <td>BAT</td>\n",
       "      <td>7635c920-8679-11e6-a353-2f6c041e2491</td>\n",
       "      <td>\\N</td>\n",
       "      <td>1800000</td>\n",
       "      <td>OFFLINE</td>\n",
       "      <td>2016-08-03 04:39:25</td>\n",
       "      <td>2016-09-29 20:13:52.793</td>\n",
       "      <td>35dcdad2-8679-11e6-bda3-ef77801087ee</td>\n",
       "      <td>762b8ff0-8679-11e6-a353-2f6c041e2491</td>\n",
       "    </tr>\n",
       "    <tr>\n",
       "      <th>2</th>\n",
       "      <td>7655fb50-8679-11e6-a353-2f6c041e2491</td>\n",
       "      <td>98.0</td>\n",
       "      <td>2016-08-03 05:08:52</td>\n",
       "      <td>7635c920-8679-11e6-a353-2f6c041e2491</td>\n",
       "      <td>35dcdad2-8679-11e6-bda3-ef77801087ee</td>\n",
       "      <td>battery</td>\n",
       "      <td>percentage</td>\n",
       "      <td>BAT</td>\n",
       "      <td>7635c920-8679-11e6-a353-2f6c041e2491</td>\n",
       "      <td>\\N</td>\n",
       "      <td>1800000</td>\n",
       "      <td>OFFLINE</td>\n",
       "      <td>2016-08-03 04:39:25</td>\n",
       "      <td>2016-09-29 20:13:52.793</td>\n",
       "      <td>35dcdad2-8679-11e6-bda3-ef77801087ee</td>\n",
       "      <td>762b8ff0-8679-11e6-a353-2f6c041e2491</td>\n",
       "    </tr>\n",
       "    <tr>\n",
       "      <th>3</th>\n",
       "      <td>7659cbe0-8679-11e6-a353-2f6c041e2491</td>\n",
       "      <td>98.0</td>\n",
       "      <td>2016-08-03 05:14:08</td>\n",
       "      <td>7635c920-8679-11e6-a353-2f6c041e2491</td>\n",
       "      <td>35dcdad2-8679-11e6-bda3-ef77801087ee</td>\n",
       "      <td>battery</td>\n",
       "      <td>percentage</td>\n",
       "      <td>BAT</td>\n",
       "      <td>7635c920-8679-11e6-a353-2f6c041e2491</td>\n",
       "      <td>\\N</td>\n",
       "      <td>1800000</td>\n",
       "      <td>OFFLINE</td>\n",
       "      <td>2016-08-03 04:39:25</td>\n",
       "      <td>2016-09-29 20:13:52.793</td>\n",
       "      <td>35dcdad2-8679-11e6-bda3-ef77801087ee</td>\n",
       "      <td>762b8ff0-8679-11e6-a353-2f6c041e2491</td>\n",
       "    </tr>\n",
       "    <tr>\n",
       "      <th>4</th>\n",
       "      <td>765dea90-8679-11e6-a353-2f6c041e2491</td>\n",
       "      <td>96.0</td>\n",
       "      <td>2016-08-03 05:28:55</td>\n",
       "      <td>7635c920-8679-11e6-a353-2f6c041e2491</td>\n",
       "      <td>35dcdad2-8679-11e6-bda3-ef77801087ee</td>\n",
       "      <td>battery</td>\n",
       "      <td>percentage</td>\n",
       "      <td>BAT</td>\n",
       "      <td>7635c920-8679-11e6-a353-2f6c041e2491</td>\n",
       "      <td>\\N</td>\n",
       "      <td>1800000</td>\n",
       "      <td>OFFLINE</td>\n",
       "      <td>2016-08-03 04:39:25</td>\n",
       "      <td>2016-09-29 20:13:52.793</td>\n",
       "      <td>35dcdad2-8679-11e6-bda3-ef77801087ee</td>\n",
       "      <td>762b8ff0-8679-11e6-a353-2f6c041e2491</td>\n",
       "    </tr>\n",
       "  </tbody>\n",
       "</table>\n",
       "</div>"
      ],
      "text/plain": [
       "                                     id  value           timestamp  \\\n",
       "0  764c5e60-8679-11e6-a353-2f6c041e2491   98.0 2016-08-03 04:39:25   \n",
       "1  765251d0-8679-11e6-a353-2f6c041e2491   98.0 2016-08-03 04:47:41   \n",
       "2  7655fb50-8679-11e6-a353-2f6c041e2491   98.0 2016-08-03 05:08:52   \n",
       "3  7659cbe0-8679-11e6-a353-2f6c041e2491   98.0 2016-08-03 05:14:08   \n",
       "4  765dea90-8679-11e6-a353-2f6c041e2491   96.0 2016-08-03 05:28:55   \n",
       "\n",
       "                              sensor_id                                  id_x  \\\n",
       "0  7635c920-8679-11e6-a353-2f6c041e2491  35dcdad2-8679-11e6-bda3-ef77801087ee   \n",
       "1  7635c920-8679-11e6-a353-2f6c041e2491  35dcdad2-8679-11e6-bda3-ef77801087ee   \n",
       "2  7635c920-8679-11e6-a353-2f6c041e2491  35dcdad2-8679-11e6-bda3-ef77801087ee   \n",
       "3  7635c920-8679-11e6-a353-2f6c041e2491  35dcdad2-8679-11e6-bda3-ef77801087ee   \n",
       "4  7635c920-8679-11e6-a353-2f6c041e2491  35dcdad2-8679-11e6-bda3-ef77801087ee   \n",
       "\n",
       "      type     si_unit type_id                                  id_y  \\\n",
       "0  battery  percentage     BAT  7635c920-8679-11e6-a353-2f6c041e2491   \n",
       "1  battery  percentage     BAT  7635c920-8679-11e6-a353-2f6c041e2491   \n",
       "2  battery  percentage     BAT  7635c920-8679-11e6-a353-2f6c041e2491   \n",
       "3  battery  percentage     BAT  7635c920-8679-11e6-a353-2f6c041e2491   \n",
       "4  battery  percentage     BAT  7635c920-8679-11e6-a353-2f6c041e2491   \n",
       "\n",
       "  description  data_frequency   status          created_at  \\\n",
       "0          \\N         1800000  OFFLINE 2016-08-03 04:39:25   \n",
       "1          \\N         1800000  OFFLINE 2016-08-03 04:39:25   \n",
       "2          \\N         1800000  OFFLINE 2016-08-03 04:39:25   \n",
       "3          \\N         1800000  OFFLINE 2016-08-03 04:39:25   \n",
       "4          \\N         1800000  OFFLINE 2016-08-03 04:39:25   \n",
       "\n",
       "               updated_at                          data_type_id  \\\n",
       "0 2016-09-29 20:13:52.793  35dcdad2-8679-11e6-bda3-ef77801087ee   \n",
       "1 2016-09-29 20:13:52.793  35dcdad2-8679-11e6-bda3-ef77801087ee   \n",
       "2 2016-09-29 20:13:52.793  35dcdad2-8679-11e6-bda3-ef77801087ee   \n",
       "3 2016-09-29 20:13:52.793  35dcdad2-8679-11e6-bda3-ef77801087ee   \n",
       "4 2016-09-29 20:13:52.793  35dcdad2-8679-11e6-bda3-ef77801087ee   \n",
       "\n",
       "                                node_id  \n",
       "0  762b8ff0-8679-11e6-a353-2f6c041e2491  \n",
       "1  762b8ff0-8679-11e6-a353-2f6c041e2491  \n",
       "2  762b8ff0-8679-11e6-a353-2f6c041e2491  \n",
       "3  762b8ff0-8679-11e6-a353-2f6c041e2491  \n",
       "4  762b8ff0-8679-11e6-a353-2f6c041e2491  "
      ]
     },
     "execution_count": 55,
     "metadata": {},
     "output_type": "execute_result"
    }
   ],
   "source": [
    "full = pd.merge(datatypes, sensors, left_on='id', right_on='data_type_id')\n",
    "full = pd.merge(datapoints, full, left_on='sensor_id', right_on='id_y')\n",
    "full.head(5)"
   ]
  },
  {
   "cell_type": "code",
   "execution_count": 56,
   "metadata": {},
   "outputs": [
    {
     "name": "stdout",
     "output_type": "stream",
     "text": [
      "(176534, 4)\n",
      "(176534, 16)\n"
     ]
    }
   ],
   "source": [
    "print(datapoints.shape)\n",
    "print(full.shape)"
   ]
  },
  {
   "cell_type": "code",
   "execution_count": 57,
   "metadata": {
    "collapsed": true
   },
   "outputs": [],
   "source": [
    "full = full.set_index('timestamp')"
   ]
  },
  {
   "cell_type": "code",
   "execution_count": 58,
   "metadata": {},
   "outputs": [],
   "source": [
    "full.replace({'NaN': np.nan}, inplace=True)\n"
   ]
  },
  {
   "cell_type": "code",
   "execution_count": 63,
   "metadata": {},
   "outputs": [
    {
     "data": {
      "text/plain": [
       "97.75080213903743"
      ]
     },
     "execution_count": 63,
     "metadata": {},
     "output_type": "execute_result"
    }
   ],
   "source": []
  },
  {
   "cell_type": "code",
   "execution_count": 68,
   "metadata": {},
   "outputs": [
    {
     "name": "stderr",
     "output_type": "stream",
     "text": [
      "D:\\Anaconda\\lib\\site-packages\\pandas\\core\\generic.py:3549: SettingWithCopyWarning: \n",
      "A value is trying to be set on a copy of a slice from a DataFrame\n",
      "\n",
      "See the caveats in the documentation: http://pandas.pydata.org/pandas-docs/stable/indexing.html#indexing-view-versus-copy\n",
      "  self._update_inplace(new_data)\n"
     ]
    }
   ],
   "source": [
    "for s in full['sensor_id'].unique():\n",
    "    sens_mean = full[full['sensor_id'] == s]['value'].mean()\n",
    "    #print(sens_mean)\n",
    "    full[full['sensor_id'] == s]['value'].fillna(value=sens_mean, inplace=True)"
   ]
  },
  {
   "cell_type": "markdown",
   "metadata": {},
   "source": [
    "-----"
   ]
  },
  {
   "cell_type": "markdown",
   "metadata": {},
   "source": [
    "### 5.0 Time Series based analysis\n",
    "\n",
    "Now, we are going to take this stitiched data frame and use it for our analysis. Specifically, we are going to perform Time-based analysis on this data.\n",
    "\n",
    "    Step 1: Take the `full` data frame and make the Time Stamp datetime format\n",
    "    Step 2: Resample the dataset to the daily level. (One observation per date)\n",
    "    Step 3: For the resampled data, calculate the daily mean, min and max values for each sensor."
   ]
  },
  {
   "cell_type": "markdown",
   "metadata": {},
   "source": [
    "Resample to get daily averages.\n",
    "Then subset to select the rows you need."
   ]
  },
  {
   "cell_type": "code",
   "execution_count": 69,
   "metadata": {
    "collapsed": true
   },
   "outputs": [],
   "source": [
    "def getStats(_id):\n",
    "    daily = pd.DataFrame()\n",
    "    daily[_id + '_mean'] = full[full.type_id==_id]['value'].resample('D').mean()\n",
    "    daily[_id + '_min'] = full[full.type_id==_id]['value'].resample('D').min()\n",
    "    daily[_id + '_max'] = full[full.type_id==_id]['value'].resample('D').max()\n",
    "    return daily"
   ]
  },
  {
   "cell_type": "code",
   "execution_count": 71,
   "metadata": {},
   "outputs": [],
   "source": [
    "huma = getStats('HUMA')\n",
    "tca = getStats('TCA')\n",
    "pa = getStats('PA')\n",
    "gp_co2 = getStats('GP_CO2')\n",
    "gp_h2s = getStats('GP_H2S')\n",
    "bat = getStats('BAT')\n",
    "rsam = getStats('RSAM')"
   ]
  },
  {
   "cell_type": "code",
   "execution_count": 74,
   "metadata": {},
   "outputs": [
    {
     "name": "stdout",
     "output_type": "stream",
     "text": [
      "(65, 3)\n",
      "(65, 3)\n",
      "(65, 3)\n",
      "(65, 3)\n",
      "(65, 3)\n",
      "(65, 3)\n",
      "(62, 3)\n"
     ]
    }
   ],
   "source": [
    "print(huma.shape)\n",
    "print(tca.shape)\n",
    "print(pa.shape)\n",
    "print(gp_co2.shape)\n",
    "print(gp_h2s.shape)\n",
    "print(bat.shape)\n",
    "print(rsam.shape)"
   ]
  },
  {
   "cell_type": "code",
   "execution_count": 76,
   "metadata": {},
   "outputs": [
    {
     "data": {
      "text/plain": [
       "(65, 18)"
      ]
     },
     "execution_count": 76,
     "metadata": {},
     "output_type": "execute_result"
    }
   ],
   "source": [
    "frames = [huma, tca, pa, gp_co2, gp_h2s, bat]\n",
    "result = pd.concat(frames, axis=1)\n",
    "result.shape"
   ]
  },
  {
   "cell_type": "markdown",
   "metadata": {},
   "source": [
    "### 6.0 Correlations Analysis\n",
    "\n",
    "The next task is to perform a correlation analysis. \n",
    "\n",
    "1.  Goal: We want to find all the sensors that are strongly correlated to each other.\n",
    "2. One of the reasons for doing this is that if two (or more) sensors are very highly correlated, we only need to keep one out of each correlated set. (This reduces the problem size and also takes care of colinearlity-related unstability in certain calculations.)"
   ]
  },
  {
   "cell_type": "markdown",
   "metadata": {},
   "source": [
    "The Correlation heatmap that we are looking for should be along the following lines:\n",
    "\n",
    "\n",
    "<img src = \"images/Corr_plot.JPG\" width=450>"
   ]
  },
  {
   "cell_type": "code",
   "execution_count": 78,
   "metadata": {
    "collapsed": true
   },
   "outputs": [],
   "source": [
    "corr = result.corr()\n",
    "sns.heatmap(corr, mask=mask, cmap=cmap, vmax=.3, center=0,\n",
    "            square=True, linewidths=.5, cbar_kws={\"shrink\": .5})"
   ]
  },
  {
   "cell_type": "markdown",
   "metadata": {},
   "source": [
    "First, look for correlations visually. \n",
    "\n",
    "**Subtask: Plot all the sensors values (of one type) over time.**"
   ]
  },
  {
   "cell_type": "markdown",
   "metadata": {},
   "source": [
    "Sub task: Identify all the temperature sensors in the data set. Hint: These are the ones that have the string 'TCA' in their name id's"
   ]
  },
  {
   "cell_type": "code",
   "execution_count": null,
   "metadata": {
    "collapsed": true
   },
   "outputs": [],
   "source": [
    "criteria = full.type_id == 'TCA'\n",
    "plt.figure(figsize=(20,10))\n",
    "full[criteria]['value'].plot()"
   ]
  },
  {
   "cell_type": "code",
   "execution_count": null,
   "metadata": {
    "collapsed": true
   },
   "outputs": [],
   "source": [
    "temp_sensors = [s for s in s2[s2.type_id =='TCA']['id_x']]\n",
    "temperature_senors = [s for t,s in zip(s2['type_id'], s2['id_x']) if t=='TCA'] # alternative way"
   ]
  },
  {
   "cell_type": "markdown",
   "metadata": {},
   "source": [
    "** Using Pandas to plot all the temperature sensors on one single plot. **\n",
    "\n",
    "- Use pandas to loop over each temperature sensor, and plot them one at a time.\n",
    "- Hint: Use the following trick to do this is to plot one line at a time, over and over in a loop"
   ]
  },
  {
   "cell_type": "code",
   "execution_count": null,
   "metadata": {
    "collapsed": true
   },
   "outputs": [],
   "source": [
    "plt.figure(figsize=(20,5))\n",
    "\n",
    "for s in temp_sensors:\n",
    "    #print(s)\n",
    "    sub_df = full[full['sensor_id']==s]\n",
    "    plt.plot(sub_df.index, sub_df['value'], '.')\n",
    "    "
   ]
  },
  {
   "cell_type": "markdown",
   "metadata": {},
   "source": [
    "This plot is fine, but all the lines are too close together. We cannot see how each sensor is behaving. For that, we can try drawing \"Subplots.\" In these plots, each sensor gets its own plot (called a 'panel')."
   ]
  },
  {
   "cell_type": "markdown",
   "metadata": {},
   "source": [
    "**Creating Subplots - Each sensor gets its own panel**"
   ]
  },
  {
   "cell_type": "code",
   "execution_count": null,
   "metadata": {
    "collapsed": true
   },
   "outputs": [],
   "source": [
    "fig, axarr = plt.subplots(10, sharex=True)\n",
    "fig.set_size_inches(20,30) \n",
    "\n",
    "plt.figure(figsize=(20,20))\n",
    "for i,s in enumerate(temp_sensors):\n",
    "    sub_df = full[full['sensor_id']==s]\n",
    "    axarr[i].plot(sub_df.index, sub_df['value'], '.')\n",
    "    "
   ]
  },
  {
   "cell_type": "markdown",
   "metadata": {},
   "source": [
    "**Task: Creating a reshaped Data Frame of just Temperature sensors**\n",
    "\n",
    "For this, we are going to have each column be 1 sensor... from 1 to 10. The rows will be timestamps, as before.\n",
    "\n",
    "Hint: pd.pivot() is perfect for this task."
   ]
  },
  {
   "cell_type": "code",
   "execution_count": null,
   "metadata": {
    "collapsed": true
   },
   "outputs": [],
   "source": [
    "# df.pivot(index='patient', columns='obs', values='score')"
   ]
  },
  {
   "cell_type": "code",
   "execution_count": null,
   "metadata": {
    "collapsed": true
   },
   "outputs": [],
   "source": [
    "temp_df = full[full['sensor_id'].isin(temp_sensors)]\n",
    "del temp_df['timestamp']\n",
    "temp_df = temp_df.reset_index()\n",
    "temp_df.pivot(columns='sensor_id', values='value')\n",
    "\n"
   ]
  },
  {
   "cell_type": "markdown",
   "metadata": {},
   "source": [
    "Since this is a real sensor data set, there are some time stamps and sensor_id's that are repeating. (Unfortunately, this happens often in real data sets.)\n",
    "\n",
    "**Task: Find all rows with the same [Timestamp, Sensor_id] and delete them **"
   ]
  },
  {
   "cell_type": "markdown",
   "metadata": {},
   "source": [
    "**Here's a clever way to find out all the duplicated rows.**\n",
    "\n",
    "Some Timestamp and sensor_id are repeating. That causes Indexing problems."
   ]
  },
  {
   "cell_type": "code",
   "execution_count": null,
   "metadata": {
    "collapsed": true
   },
   "outputs": [],
   "source": [
    "#pd.concat(g for _, g in df.groupby(\"ID\") if len(g) > 1)\n",
    "pd.concat(g for _, g in temp_df.groupby(['timestamp', 'sensor_id']) if len(g) > 1)"
   ]
  },
  {
   "cell_type": "markdown",
   "metadata": {},
   "source": [
    "**Task: Drop all the rows where timestamp and sensor_id are duplicated**"
   ]
  },
  {
   "cell_type": "code",
   "execution_count": null,
   "metadata": {
    "collapsed": true
   },
   "outputs": [],
   "source": [
    "tdf = temp_df.drop_duplicates(subset = ['timestamp', 'sensor_id'], keep='first')\n",
    "# Hint: Look at https://segment.com/blog/5-advanced-testing-techniques-in-go/"
   ]
  },
  {
   "cell_type": "code",
   "execution_count": null,
   "metadata": {
    "collapsed": true
   },
   "outputs": [],
   "source": [
    "#temp_df_cor = tdf.pivot(index='timestamp', columns='sensor_id', values='value')\n"
   ]
  },
  {
   "cell_type": "code",
   "execution_count": null,
   "metadata": {
    "collapsed": true
   },
   "outputs": [],
   "source": [
    "#daily_temp_cor_df = temp_df_cor.resample('D').mean()"
   ]
  },
  {
   "cell_type": "markdown",
   "metadata": {},
   "source": [
    "Now, we are finally ready to calculate the correlations across sensor values. Hint: `Use corr()`"
   ]
  },
  {
   "cell_type": "code",
   "execution_count": null,
   "metadata": {
    "collapsed": true
   },
   "outputs": [],
   "source": [
    "#corr_df = daily_temp_cor_df.corr()"
   ]
  },
  {
   "cell_type": "code",
   "execution_count": null,
   "metadata": {
    "collapsed": true
   },
   "outputs": [],
   "source": [
    "# Create a mask to display only the lower triangle of the matrix (since it's mirrored around its \n",
    "# top-left to bottom-right diagonal).\n",
    "mask = np.zeros_like(corr_df)\n",
    "mask[np.triu_indices_from(mask)] = True\n"
   ]
  },
  {
   "cell_type": "code",
   "execution_count": null,
   "metadata": {
    "collapsed": true
   },
   "outputs": [],
   "source": [
    "# Create the heatmap using seaborn library. \n",
    "# List if colormaps (parameter 'cmap') is available here: http://matplotlib.org/examples/color/colormaps_reference.html\n",
    "sns.heatmap(corr_df, cmap='RdYlGn_r', vmax=1.0, vmin=-1.0 , mask = mask, linewidths=2.5)\n",
    " \n",
    "# Show the plot we reorient the labels for each column and row to make them easier to read.\n",
    "plt.yticks(rotation=0) \n",
    "plt.xticks(rotation=90) \n",
    "plt.show()"
   ]
  },
  {
   "cell_type": "code",
   "execution_count": null,
   "metadata": {
    "collapsed": true
   },
   "outputs": [],
   "source": [
    "full2 = full.drop_duplicates(subset = ['timestamp', 'sensor_id'], keep='first')"
   ]
  },
  {
   "cell_type": "code",
   "execution_count": null,
   "metadata": {
    "collapsed": true
   },
   "outputs": [],
   "source": [
    "full_wide = full2.pivot(index='timestamp', columns='sensor_id', values='value')\n"
   ]
  },
  {
   "cell_type": "code",
   "execution_count": null,
   "metadata": {
    "collapsed": true
   },
   "outputs": [],
   "source": [
    "daily_all_sensors = full_wide.resample('D').mean()"
   ]
  },
  {
   "cell_type": "code",
   "execution_count": null,
   "metadata": {
    "collapsed": true
   },
   "outputs": [],
   "source": [
    "daily_all_sensors"
   ]
  },
  {
   "cell_type": "markdown",
   "metadata": {},
   "source": [
    "**Trying to building a Linear Model**\n",
    "\n",
    "In order to do that, we first need to create a data frame with the columns representing only those sensors for ONE NODE.\n",
    "\n",
    "Try to see if pd.pivot() can help with grouping Nodes together"
   ]
  },
  {
   "cell_type": "code",
   "execution_count": null,
   "metadata": {
    "collapsed": true
   },
   "outputs": [],
   "source": [
    "nodes.name # so we have 10 \"nodes\" with 6 sensors each. [T, Pr, HUMA, PPM , PPM2, BATT]"
   ]
  },
  {
   "cell_type": "code",
   "execution_count": null,
   "metadata": {
    "collapsed": true
   },
   "outputs": [],
   "source": [
    "fullnode = pd.merge(full, nodes, left_on='node_id', right_on='id')"
   ]
  },
  {
   "cell_type": "code",
   "execution_count": null,
   "metadata": {
    "collapsed": true
   },
   "outputs": [],
   "source": [
    "fullnode.columns, fullnode.index"
   ]
  },
  {
   "cell_type": "code",
   "execution_count": null,
   "metadata": {
    "collapsed": true
   },
   "outputs": [],
   "source": [
    "fullnode.set_index('timestamp', inplace=True)"
   ]
  },
  {
   "cell_type": "code",
   "execution_count": null,
   "metadata": {
    "collapsed": true
   },
   "outputs": [],
   "source": [
    "fullnode.resample('D').mean()"
   ]
  },
  {
   "cell_type": "code",
   "execution_count": null,
   "metadata": {
    "collapsed": true
   },
   "outputs": [],
   "source": [
    "# fullnode.pivot_table(index=['timestamp', 'name'], columns='type', values='value')\n",
    "fn_wide = fullnode.pivot_table(index=['timestamp','name'], columns=['type'], values='value')\n"
   ]
  },
  {
   "cell_type": "code",
   "execution_count": null,
   "metadata": {
    "collapsed": true
   },
   "outputs": [],
   "source": [
    "#Now, let's make the Node ('name') into its own column. We do this by reset_index() for that level (=1)\n",
    "fn_wide.reset_index(level=1, inplace=True)"
   ]
  },
  {
   "cell_type": "code",
   "execution_count": null,
   "metadata": {
    "collapsed": true
   },
   "outputs": [],
   "source": [
    "fn_wide.head()"
   ]
  },
  {
   "cell_type": "markdown",
   "metadata": {},
   "source": [
    "Before we can perform Linear Regression, we have one last step remaining. We'd like to \"resample\" all the data, aggregating it down to 'Daily' Levels."
   ]
  },
  {
   "cell_type": "code",
   "execution_count": null,
   "metadata": {
    "collapsed": true
   },
   "outputs": [],
   "source": [
    "lmfn = fn_wide.resample('D').mean()"
   ]
  },
  {
   "cell_type": "code",
   "execution_count": null,
   "metadata": {
    "collapsed": true
   },
   "outputs": [],
   "source": [
    "lmfn.shape"
   ]
  },
  {
   "cell_type": "markdown",
   "metadata": {},
   "source": [
    "### End of Stitching. \n",
    "\n",
    "**The Digital Thread for this dataset has been created**\n",
    "\n",
    "This \"digital Thread\" has been used to 'stitch' the data frame with all the values we wish to analyze.\n",
    "\n",
    "---\n",
    "Now we finally have the data frame in the shape we wanted to enable Linear Regression.\n",
    "\n",
    "### 8.0 Sample Modeling"
   ]
  },
  {
   "cell_type": "markdown",
   "metadata": {},
   "source": [
    "**8.1 Building A Battery Remaining-Life prediction model **\n",
    "Build a machine learning model (LR, tree-based or any other) to try and predict the Battery life (remaining) as a function of any of the other sensor characteristic.\n",
    "\n",
    "* Which variable (sensor) is a good predictor of battery life?\n",
    "* Is your linear regression a \"good fit?\"\n",
    "* What it the RMSE of your predicted values?"
   ]
  },
  {
   "cell_type": "code",
   "execution_count": null,
   "metadata": {
    "collapsed": true
   },
   "outputs": [],
   "source": [
    "#==============================================================================\n",
    "# Supervised learning linear regression\n",
    "#==============================================================================\n",
    "\n",
    "from sklearn import linear_model\n",
    "\n",
    "# Split the data into training/testing sets\n",
    "train = lmfn[:-30]\n",
    "test = lmfn[-30:]"
   ]
  },
  {
   "cell_type": "code",
   "execution_count": null,
   "metadata": {
    "collapsed": true
   },
   "outputs": [],
   "source": [
    "train.columns"
   ]
  },
  {
   "cell_type": "code",
   "execution_count": null,
   "metadata": {
    "collapsed": true
   },
   "outputs": [],
   "source": [
    "target, predictors = 'battery', 'temperature'\n",
    "\n",
    "x_train=train[predictors].to_frame() #converts the pandas Series to numpy.ndarray\n",
    "y_train=train[target].to_frame()\n",
    "x_test=test[predictors].to_frame() #converts the pandas Series to numpy.ndarray\n",
    "y_test=test[target].to_frame()"
   ]
  },
  {
   "cell_type": "code",
   "execution_count": null,
   "metadata": {
    "collapsed": true
   },
   "outputs": [],
   "source": [
    "# 2.- Create linear regression object\n",
    "regr = linear_model.LinearRegression()\n",
    "\n",
    "# 3.- Train the model using the training sets\n",
    "regr.fit(x_train,y_train)\n",
    "\n",
    "# The coefficients\n",
    "print(\"Coefficients: \",  float(regr.coef_))\n",
    "# The mean squared error\n",
    "print(\"Mean squared error: %.2f\"\n",
    "      % np.mean((regr.predict(x_train) - y_train) ** 2))"
   ]
  },
  {
   "cell_type": "code",
   "execution_count": null,
   "metadata": {
    "collapsed": true
   },
   "outputs": [],
   "source": []
  }
 ],
 "metadata": {
  "kernelspec": {
   "display_name": "Python 3",
   "language": "python",
   "name": "python3"
  },
  "language_info": {
   "codemirror_mode": {
    "name": "ipython",
    "version": 3
   },
   "file_extension": ".py",
   "mimetype": "text/x-python",
   "name": "python",
   "nbconvert_exporter": "python",
   "pygments_lexer": "ipython3",
   "version": "3.6.8"
  }
 },
 "nbformat": 4,
 "nbformat_minor": 2
}
